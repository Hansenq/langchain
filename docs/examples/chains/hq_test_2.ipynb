{
 "cells": [
  {
   "cell_type": "markdown",
   "metadata": {},
   "source": [
    "# HQ Test - Emailing when HN article mentions you\n",
    "\n",
    "Testing out langchain to see if we can ask it to build a reasonable workflow to query the HN API and send an email when the HN article mentions something."
   ]
  },
  {
   "cell_type": "code",
   "execution_count": null,
   "metadata": {},
   "outputs": [],
   "source": []
  }
 ],
 "metadata": {
  "kernelspec": {
   "display_name": "Python 3.10.8 ('gpt3-embeddings-test-EaR_A0kU')",
   "language": "python",
   "name": "python3"
  },
  "language_info": {
   "name": "python",
   "version": "3.10.8"
  },
  "orig_nbformat": 4,
  "vscode": {
   "interpreter": {
    "hash": "4372417692b5b6aa85921c34178957ce3e299a28f3d54ff62886187cf600935b"
   }
  }
 },
 "nbformat": 4,
 "nbformat_minor": 2
}
