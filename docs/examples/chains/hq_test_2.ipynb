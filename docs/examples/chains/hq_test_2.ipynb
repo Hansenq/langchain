{
 "cells": [
  {
   "cell_type": "markdown",
   "metadata": {},
   "source": [
    "# HQ Test - Emailing when HN article mentions you\n",
    "\n",
    "Testing out langchain to see if we can ask it to build a reasonable workflow to query the HN API and send an email when the HN article mentions something."
   ]
  },
  {
   "cell_type": "code",
   "execution_count": null,
   "metadata": {},
   "outputs": [],
   "source": []
  }
 ],
 "metadata": {
  "kernelspec": {
   "display_name": "Python 3.10.8 ('langchain-22cAne0b')",
   "language": "python",
   "name": "python3"
  },
  "language_info": {
   "name": "python",
   "version": "3.10.8"
  },
  "orig_nbformat": 4,
  "vscode": {
   "interpreter": {
    "hash": "0850ae6c2db5feefbbb54fd8d125a3c89e6fe41561b27e28211c3eb1507a1175"
   }
  }
 },
 "nbformat": 4,
 "nbformat_minor": 2
}
